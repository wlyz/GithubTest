{
 "cells": [
  {
   "cell_type": "code",
   "execution_count": 1,
   "metadata": {
    "collapsed": true
   },
   "outputs": [],
   "source": [
    "import numpy as np\n",
    "import pandas as pd\n"
   ]
  },
  {
   "cell_type": "code",
   "source": [
    "# get seq\n",
    "df=pd.read_table('seq.txt',names=['1','2','3','4','5','6','7'])\n",
    "seq=np.array(df['6'])\n",
    "df['8']=df['7']=='Strong'\n",
    "label=np.array(df['8'].astype(int))"
   ],
   "metadata": {
    "collapsed": false,
    "pycharm": {
     "name": "#%%\n"
    }
   },
   "execution_count": 2,
   "outputs": []
  },
  {
   "cell_type": "code",
   "execution_count": 3,
   "outputs": [
    {
     "data": {
      "text/plain": "{'AAA': 0.006,\n 'AAC': 0.005,\n 'AAG': 0.01,\n 'AAT': 0.003,\n 'ACA': 0.006,\n 'ACC': 0.022,\n 'ACG': 0.004,\n 'ACT': 0.004,\n 'AGA': 0.016,\n 'AGC': 0.025,\n 'AGG': 0.034,\n 'AGT': 0.011,\n 'ATA': 0.002,\n 'ATC': 0.01,\n 'ATG': 0.014,\n 'ATT': 0.005,\n 'CAA': 0.008,\n 'CAC': 0.02,\n 'CAG': 0.04,\n 'CAT': 0.012,\n 'CCA': 0.033,\n 'CCC': 0.057,\n 'CCG': 0.009,\n 'CCT': 0.043,\n 'CGA': 0.004,\n 'CGC': 0.01,\n 'CGG': 0.01,\n 'CGT': 0.001,\n 'CTA': 0.007,\n 'CTC': 0.03,\n 'CTG': 0.036,\n 'CTT': 0.013,\n 'GAA': 0.007,\n 'GAC': 0.008,\n 'GAG': 0.034,\n 'GAT': 0.01,\n 'GCA': 0.028,\n 'GCC': 0.036,\n 'GCG': 0.006,\n 'GCT': 0.023,\n 'GGA': 0.024,\n 'GGC': 0.033,\n 'GGG': 0.034,\n 'GGT': 0.018,\n 'GTA': 0.005,\n 'GTC': 0.013,\n 'GTG': 0.02,\n 'GTT': 0.004,\n 'TAA': 0.002,\n 'TAC': 0.003,\n 'TAG': 0.003,\n 'TAT': 0.005,\n 'TCA': 0.012,\n 'TCC': 0.028,\n 'TCG': 0.006,\n 'TCT': 0.016,\n 'TGA': 0.015,\n 'TGC': 0.024,\n 'TGG': 0.03,\n 'TGT': 0.012,\n 'TTA': 0.0,\n 'TTC': 0.009,\n 'TTG': 0.013,\n 'TTT': 0.009}"
     },
     "execution_count": 3,
     "metadata": {},
     "output_type": "execute_result"
    }
   ],
   "source": [
    "# 得到对应的feature\n",
    "dff=np.array(pd.read_table('features.txt',names=['feature']))\n",
    "a=dff.reshape(dff.shape[0],1)\n",
    "features={}\n",
    "for i in a: # i is ndarray(1,)\n",
    "    str=i[0]\n",
    "    features[str[:3]]=float(str[7:])\n",
    "features\n"
   ],
   "metadata": {
    "collapsed": false,
    "pycharm": {
     "name": "#%%\n"
    }
   }
  },
  {
   "cell_type": "code",
   "execution_count": 4,
   "outputs": [],
   "source": [
    "whole= []\n",
    "for j in range(seq.shape[0]):\n",
    "    s=seq[j]\n",
    "    one=[]\n",
    "    for i in range(27):\n",
    "        index = i*3\n",
    "        one.append(features[s[index:index+3].upper()])\n",
    "    whole.append(one)\n",
    "data=np.array(whole)"
   ],
   "metadata": {
    "collapsed": false,
    "pycharm": {
     "name": "#%%\n"
    }
   }
  },
  {
   "cell_type": "code",
   "execution_count": 5,
   "outputs": [
    {
     "data": {
      "text/plain": "array([0, 0, 0, ..., 1, 0, 1])"
     },
     "execution_count": 5,
     "metadata": {},
     "output_type": "execute_result"
    }
   ],
   "source": [
    "data\n",
    "label"
   ],
   "metadata": {
    "collapsed": false,
    "pycharm": {
     "name": "#%%\n"
    }
   }
  },
  {
   "cell_type": "markdown",
   "source": [
    "### 决策树"
   ],
   "metadata": {
    "collapsed": false,
    "pycharm": {
     "name": "#%% md\n"
    }
   }
  },
  {
   "cell_type": "code",
   "execution_count": 6,
   "outputs": [
    {
     "data": {
      "text/plain": "0.4973821989528796"
     },
     "execution_count": 6,
     "metadata": {},
     "output_type": "execute_result"
    },
    {
     "data": {
      "text/plain": "<Figure size 432x288 with 1 Axes>",
      "image/png": "[encoded data removed]"
     },
     "metadata": {
      "needs_background": "light"
     },
     "output_type": "display_data"
    }
   ],
   "source": [
    "import sklearn.tree as tree\n",
    "clftree=tree.DecisionTreeClassifier()\n",
    "clftree=clftree.fit(data[:1800],label[:1800])\n",
    "tree.plot_tree(clftree)\n",
    "clftree.score(data[1800:],label[1800:])"
   ],
   "metadata": {
    "collapsed": false,
    "pycharm": {
     "name": "#%%\n"
    }
   }
  },
  {
   "cell_type": "markdown",
   "source": [
    "KNN"
   ],
   "metadata": {
    "collapsed": false
   }
  },
  {
   "cell_type": "code",
   "execution_count": 7,
   "outputs": [
    {
     "data": {
      "text/plain": "0.612565445026178"
     },
     "execution_count": 7,
     "metadata": {},
     "output_type": "execute_result"
    }
   ],
   "source": [
    "from sklearn import neighbors\n",
    "clfknn = neighbors.KNeighborsClassifier()\n",
    "clfknn.fit(data[:1800],label[:1800])\n",
    "clfknn.score(data[1800:],label[1800:])"
   ],
   "metadata": {
    "collapsed": false,
    "pycharm": {
     "name": "#%%\n"
    }
   }
  },
  {
   "cell_type": "markdown",
   "source": [
    "线性SVM"
   ],
   "metadata": {
    "collapsed": false
   }
  },
  {
   "cell_type": "code",
   "execution_count": 8,
   "outputs": [
    {
     "data": {
      "text/plain": "0.6492146596858639"
     },
     "execution_count": 8,
     "metadata": {},
     "output_type": "execute_result"
    }
   ],
   "source": [
    "from sklearn import svm\n",
    "clfsvm=svm.SVC()\n",
    "clfsvm.fit(data[:1800],label[:1800])\n",
    "clfsvm.score(data[1800:],label[1800:])"
   ],
   "metadata": {
    "collapsed": false,
    "pycharm": {
     "name": "#%%\n"
    }
   }
  },
  {
   "cell_type": "code",
   "execution_count": 8,
   "outputs": [],
   "source": [],
   "metadata": {
    "collapsed": false,
    "pycharm": {
     "name": "#%%\n"
    }
   }
  }
 ],
 "metadata": {
  "kernelspec": {
   "display_name": "Python 3",
   "language": "python",
   "name": "python3"
  },
  "language_info": {
   "codemirror_mode": {
    "name": "ipython",
    "version": 2
   },
   "file_extension": ".py",
   "mimetype": "text/x-python",
   "name": "python",
   "nbconvert_exporter": "python",
   "pygments_lexer": "ipython2",
   "version": "2.7.6"
  }
 },
 "nbformat": 4,
 "nbformat_minor": 0
}